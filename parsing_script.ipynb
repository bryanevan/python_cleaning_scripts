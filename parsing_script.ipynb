{
 "cells": [
  {
   "cell_type": "code",
   "execution_count": 2,
   "id": "bcfac682-3dd2-4bdf-93a8-7d1d5b914f58",
   "metadata": {},
   "outputs": [
    {
     "name": "stdout",
     "output_type": "stream",
     "text": [
      "Exported parsed data to: /Users/bryanevan/Downloads/2024-03-18_parsed.csv\n"
     ]
    }
   ],
   "source": [
    "import pandas as pd\n",
    "import re\n",
    "import json\n",
    "import os\n",
    "from datetime import datetime\n",
    "\n",
    "# Ensures that extract_street and extract_city_from_address are defined\n",
    "def extract_street(address, suffix_regex):\n",
    "    if pd.isnull(address):\n",
    "        return None\n",
    "    match = re.search(suffix_regex, address, re.IGNORECASE)\n",
    "    if not match:\n",
    "        return None\n",
    "    matched_suffix = match.group(0)\n",
    "    before_suffix, suffix, _ = address.partition(matched_suffix)\n",
    "    street_address = re.sub(r',', '', before_suffix + suffix).strip()\n",
    "    return street_address\n",
    "\n",
    "def extract_city_from_address(address, city_list):\n",
    "    if pd.isnull(address):\n",
    "        return None\n",
    "    address = str(address)  # Ensure address is treated as string\n",
    "    for city in city_list:\n",
    "        if city.lower() in address.lower().replace(',', ''):\n",
    "            return city\n",
    "    return None\n",
    "\n",
    "def load_city_list_from_json(file_path):\n",
    "    with open(file_path, 'r') as file:\n",
    "        data = json.load(file)\n",
    "    cleaned_text = data[\"cleanedText\"]\n",
    "    lines = cleaned_text.split('\\n')\n",
    "    city_list = [line for line in lines if line and not line.isupper() and not line.startswith('//') and not line.startswith('[')]\n",
    "    return city_list\n",
    "\n",
    "def parse_address_data(file_path, suffix_file_path, city_list_path):\n",
    "    with open(suffix_file_path, 'r') as file:\n",
    "        street_suffixes = json.load(file)\n",
    "    all_suffixes = set()\n",
    "    for suffix in street_suffixes:\n",
    "        all_suffixes.update(suffix[\"abbrs\"])\n",
    "    suffix_pattern = '|'.join(re.escape(sfx) for sfx in all_suffixes)\n",
    "    suffix_regex = rf'\\b(?:{suffix_pattern})\\b'\n",
    "\n",
    "    city_list = load_city_list_from_json(city_list_path)\n",
    "    \n",
    "    df = pd.read_csv(file_path)\n",
    "    df['Street_Address'] = df['principal_address'].apply(lambda x: extract_street(x, suffix_regex))\n",
    "    df['City'] = df['principal_address'].apply(lambda x: extract_city_from_address(x, city_list))\n",
    "    df['County'] = df['last_county'].apply(lambda x: ' '.join(x.split('-')[:-1]) if pd.notnull(x) else x)\n",
    "    df['State'] = df['last_county'].apply(lambda x: x.split('-')[-1].upper() if pd.notnull(x) else x)\n",
    "    \n",
    "    df.drop(columns=['profile_url'], inplace=True)\n",
    "    \n",
    "    return df\n",
    "\n",
    "def export_parsed_data(df, directory_path):\n",
    "    today = datetime.now().strftime('%Y-%m-%d')\n",
    "    output_file_name = f\"{today}_parsed.csv\"\n",
    "    output_file_path = os.path.join(directory_path, output_file_name)\n",
    "    \n",
    "    df.to_csv(output_file_path, index=False)\n",
    "    return output_file_path\n",
    "\n",
    "# Adjust file paths accordingly\n",
    "file_path = '/Users/bryanevan/Downloads/raw.csv'\n",
    "suffix_file_path = '/Users/bryanevan/CF/ANACONDA/python_cleaning_scripts/street_suffix.json'\n",
    "city_list_path = '/Users/bryanevan/CF/ANACONDA/python_cleaning_scripts/cleaned_cities_list.json'\n",
    "directory_path = '/Users/bryanevan/Downloads'\n",
    "\n",
    "parsed_df = parse_address_data(file_path, suffix_file_path, city_list_path)\n",
    "new_file_path = export_parsed_data(parsed_df, directory_path)\n",
    "print(f\"Exported parsed data to: {new_file_path}\")\n"
   ]
  },
  {
   "cell_type": "code",
   "execution_count": null,
   "id": "bfebf11e-1a1f-471f-976f-61348a2ca13e",
   "metadata": {},
   "outputs": [],
   "source": []
  }
 ],
 "metadata": {
  "kernelspec": {
   "display_name": "Python 3 (ipykernel)",
   "language": "python",
   "name": "python3"
  },
  "language_info": {
   "codemirror_mode": {
    "name": "ipython",
    "version": 3
   },
   "file_extension": ".py",
   "mimetype": "text/x-python",
   "name": "python",
   "nbconvert_exporter": "python",
   "pygments_lexer": "ipython3",
   "version": "3.11.7"
  }
 },
 "nbformat": 4,
 "nbformat_minor": 5
}
