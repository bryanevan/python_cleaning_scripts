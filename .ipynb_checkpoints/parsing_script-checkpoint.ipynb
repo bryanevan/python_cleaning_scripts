{
 "cells": [
  {
   "cell_type": "code",
   "execution_count": 1,
   "id": "bcfac682-3dd2-4bdf-93a8-7d1d5b914f58",
   "metadata": {},
   "outputs": [
    {
     "ename": "FileNotFoundError",
     "evalue": "[Errno 2] No such file or directory: 'path_to_street_suffix.json'",
     "output_type": "error",
     "traceback": [
      "\u001b[0;31m---------------------------------------------------------------------------\u001b[0m",
      "\u001b[0;31mFileNotFoundError\u001b[0m                         Traceback (most recent call last)",
      "Cell \u001b[0;32mIn[1], line 71\u001b[0m\n\u001b[1;32m     68\u001b[0m city_list_path \u001b[38;5;241m=\u001b[39m \u001b[38;5;124m'\u001b[39m\u001b[38;5;124mpath_to_cleaned_cities_list.json\u001b[39m\u001b[38;5;124m'\u001b[39m\n\u001b[1;32m     69\u001b[0m directory_path \u001b[38;5;241m=\u001b[39m \u001b[38;5;124m'\u001b[39m\u001b[38;5;124mpath_to_your_output_directory\u001b[39m\u001b[38;5;124m'\u001b[39m\n\u001b[0;32m---> 71\u001b[0m parsed_df \u001b[38;5;241m=\u001b[39m parse_address_data(file_path, suffix_file_path, city_list_path)\n\u001b[1;32m     72\u001b[0m new_file_path \u001b[38;5;241m=\u001b[39m export_parsed_data(parsed_df, directory_path)\n\u001b[1;32m     73\u001b[0m \u001b[38;5;28mprint\u001b[39m(\u001b[38;5;124mf\u001b[39m\u001b[38;5;124m\"\u001b[39m\u001b[38;5;124mExported parsed data to: \u001b[39m\u001b[38;5;132;01m{\u001b[39;00mnew_file_path\u001b[38;5;132;01m}\u001b[39;00m\u001b[38;5;124m\"\u001b[39m)\n",
      "Cell \u001b[0;32mIn[1], line 37\u001b[0m, in \u001b[0;36mparse_address_data\u001b[0;34m(file_path, suffix_file_path, city_list_path)\u001b[0m\n\u001b[1;32m     36\u001b[0m \u001b[38;5;28;01mdef\u001b[39;00m \u001b[38;5;21mparse_address_data\u001b[39m(file_path, suffix_file_path, city_list_path):\n\u001b[0;32m---> 37\u001b[0m     \u001b[38;5;28;01mwith\u001b[39;00m \u001b[38;5;28mopen\u001b[39m(suffix_file_path, \u001b[38;5;124m'\u001b[39m\u001b[38;5;124mr\u001b[39m\u001b[38;5;124m'\u001b[39m) \u001b[38;5;28;01mas\u001b[39;00m file:\n\u001b[1;32m     38\u001b[0m         street_suffixes \u001b[38;5;241m=\u001b[39m json\u001b[38;5;241m.\u001b[39mload(file)\n\u001b[1;32m     39\u001b[0m     all_suffixes \u001b[38;5;241m=\u001b[39m \u001b[38;5;28mset\u001b[39m()\n",
      "File \u001b[0;32m/opt/anaconda3/lib/python3.11/site-packages/IPython/core/interactiveshell.py:310\u001b[0m, in \u001b[0;36m_modified_open\u001b[0;34m(file, *args, **kwargs)\u001b[0m\n\u001b[1;32m    303\u001b[0m \u001b[38;5;28;01mif\u001b[39;00m file \u001b[38;5;129;01min\u001b[39;00m {\u001b[38;5;241m0\u001b[39m, \u001b[38;5;241m1\u001b[39m, \u001b[38;5;241m2\u001b[39m}:\n\u001b[1;32m    304\u001b[0m     \u001b[38;5;28;01mraise\u001b[39;00m \u001b[38;5;167;01mValueError\u001b[39;00m(\n\u001b[1;32m    305\u001b[0m         \u001b[38;5;124mf\u001b[39m\u001b[38;5;124m\"\u001b[39m\u001b[38;5;124mIPython won\u001b[39m\u001b[38;5;124m'\u001b[39m\u001b[38;5;124mt let you open fd=\u001b[39m\u001b[38;5;132;01m{\u001b[39;00mfile\u001b[38;5;132;01m}\u001b[39;00m\u001b[38;5;124m by default \u001b[39m\u001b[38;5;124m\"\u001b[39m\n\u001b[1;32m    306\u001b[0m         \u001b[38;5;124m\"\u001b[39m\u001b[38;5;124mas it is likely to crash IPython. If you know what you are doing, \u001b[39m\u001b[38;5;124m\"\u001b[39m\n\u001b[1;32m    307\u001b[0m         \u001b[38;5;124m\"\u001b[39m\u001b[38;5;124myou can use builtins\u001b[39m\u001b[38;5;124m'\u001b[39m\u001b[38;5;124m open.\u001b[39m\u001b[38;5;124m\"\u001b[39m\n\u001b[1;32m    308\u001b[0m     )\n\u001b[0;32m--> 310\u001b[0m \u001b[38;5;28;01mreturn\u001b[39;00m io_open(file, \u001b[38;5;241m*\u001b[39margs, \u001b[38;5;241m*\u001b[39m\u001b[38;5;241m*\u001b[39mkwargs)\n",
      "\u001b[0;31mFileNotFoundError\u001b[0m: [Errno 2] No such file or directory: 'path_to_street_suffix.json'"
     ]
    }
   ],
   "source": [
    "import pandas as pd\n",
    "import re\n",
    "import json\n",
    "import os\n",
    "from datetime import datetime\n",
    "\n",
    "# Ensures that extract_street and extract_city_from_address are defined\n",
    "def extract_street(address, suffix_regex):\n",
    "    if pd.isnull(address):\n",
    "        return None\n",
    "    match = re.search(suffix_regex, address, re.IGNORECASE)\n",
    "    if not match:\n",
    "        return None\n",
    "    matched_suffix = match.group(0)\n",
    "    before_suffix, suffix, _ = address.partition(matched_suffix)\n",
    "    street_address = re.sub(r',', '', before_suffix + suffix).strip()\n",
    "    return street_address\n",
    "\n",
    "def extract_city_from_address(address, city_list):\n",
    "    if pd.isnull(address):\n",
    "        return None\n",
    "    address = str(address)  # Ensure address is treated as string\n",
    "    for city in city_list:\n",
    "        if city.lower() in address.lower().replace(',', ''):\n",
    "            return city\n",
    "    return None\n",
    "\n",
    "def load_city_list_from_json(file_path):\n",
    "    with open(file_path, 'r') as file:\n",
    "        data = json.load(file)\n",
    "    cleaned_text = data[\"cleanedText\"]\n",
    "    lines = cleaned_text.split('\\n')\n",
    "    city_list = [line for line in lines if line and not line.isupper() and not line.startswith('//') and not line.startswith('[')]\n",
    "    return city_list\n",
    "\n",
    "def parse_address_data(file_path, suffix_file_path, city_list_path):\n",
    "    with open(suffix_file_path, 'r') as file:\n",
    "        street_suffixes = json.load(file)\n",
    "    all_suffixes = set()\n",
    "    for suffix in street_suffixes:\n",
    "        all_suffixes.update(suffix[\"abbrs\"])\n",
    "    suffix_pattern = '|'.join(re.escape(sfx) for sfx in all_suffixes)\n",
    "    suffix_regex = rf'\\b(?:{suffix_pattern})\\b'\n",
    "\n",
    "    city_list = load_city_list_from_json(city_list_path)\n",
    "    \n",
    "    df = pd.read_csv(file_path)\n",
    "    df['Street_Address'] = df['principal_address'].apply(lambda x: extract_street(x, suffix_regex))\n",
    "    df['City'] = df['principal_address'].apply(lambda x: extract_city_from_address(x, city_list))\n",
    "    df['County'] = df['last_county'].apply(lambda x: ' '.join(x.split('-')[:-1]) if pd.notnull(x) else x)\n",
    "    df['State'] = df['last_county'].apply(lambda x: x.split('-')[-1].upper() if pd.notnull(x) else x)\n",
    "    \n",
    "    df.drop(columns=['profile_url'], inplace=True)\n",
    "    \n",
    "    return df\n",
    "\n",
    "def export_parsed_data(df, directory_path):\n",
    "    today = datetime.now().strftime('%Y-%m-%d')\n",
    "    output_file_name = f\"{today}_parsed.csv\"\n",
    "    output_file_path = os.path.join(directory_path, output_file_name)\n",
    "    \n",
    "    df.to_csv(output_file_path, index=False)\n",
    "    return output_file_path\n",
    "\n",
    "# Adjust file paths accordingly\n",
    "file_path = '/Users/bryanevan/Downloads/raw.csv'\n",
    "suffix_file_path = '/Users/bryanevan/CF/ANACONDA/python_cleaning_scripts/street_suffix.json'\n",
    "city_list_path = '/Users/bryanevan/CF/ANACONDA/python_cleaning_scripts/cleaned_cities_list.json'\n",
    "directory_path = '/Users/bryanevan/Downloads'\n",
    "\n",
    "parsed_df = parse_address_data(file_path, suffix_file_path, city_list_path)\n",
    "new_file_path = export_parsed_data(parsed_df, directory_path)\n",
    "print(f\"Exported parsed data to: {new_file_path}\")\n"
   ]
  },
  {
   "cell_type": "code",
   "execution_count": null,
   "id": "bfebf11e-1a1f-471f-976f-61348a2ca13e",
   "metadata": {},
   "outputs": [],
   "source": []
  }
 ],
 "metadata": {
  "kernelspec": {
   "display_name": "Python 3 (ipykernel)",
   "language": "python",
   "name": "python3"
  },
  "language_info": {
   "codemirror_mode": {
    "name": "ipython",
    "version": 3
   },
   "file_extension": ".py",
   "mimetype": "text/x-python",
   "name": "python",
   "nbconvert_exporter": "python",
   "pygments_lexer": "ipython3",
   "version": "3.11.7"
  }
 },
 "nbformat": 4,
 "nbformat_minor": 5
}
